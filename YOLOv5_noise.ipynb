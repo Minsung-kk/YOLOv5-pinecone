{
  "nbformat": 4,
  "nbformat_minor": 0,
  "metadata": {
    "colab": {
      "name": "YOLOv5_noise.ipynb",
      "provenance": [],
      "collapsed_sections": [],
      "toc_visible": true,
      "authorship_tag": "ABX9TyOjy5XSjBoGwhWLeMCc0www",
      "include_colab_link": true
    },
    "kernelspec": {
      "name": "python3",
      "display_name": "Python 3"
    },
    "language_info": {
      "name": "python"
    },
    "accelerator": "GPU"
  },
  "cells": [
    {
      "cell_type": "markdown",
      "metadata": {
        "id": "view-in-github",
        "colab_type": "text"
      },
      "source": [
        "<a href=\"https://colab.research.google.com/github/Minsung-kk/yolov5-noise/blob/master/YOLOv5_noise.ipynb\" target=\"_parent\"><img src=\"https://colab.research.google.com/assets/colab-badge.svg\" alt=\"Open In Colab\"/></a>"
      ]
    },
    {
      "cell_type": "code",
      "metadata": {
        "colab": {
          "base_uri": "https://localhost:8080/"
        },
        "id": "9PlYf5emPUgV",
        "outputId": "e1a1a7c4-ce30-4e57-e84a-98ad461f3d13"
      },
      "source": [
        "%cd /content/\n",
        "\n"
      ],
      "execution_count": 5,
      "outputs": [
        {
          "output_type": "stream",
          "text": [
            "/content\n"
          ],
          "name": "stdout"
        }
      ]
    },
    {
      "cell_type": "code",
      "metadata": {
        "colab": {
          "base_uri": "https://localhost:8080/"
        },
        "id": "25skBD1LZnRb",
        "outputId": "03a5be00-f5fa-45e5-de68-8371137ab613"
      },
      "source": [
        "!git clone https://github.com/ultralytics/yolov5.git"
      ],
      "execution_count": 6,
      "outputs": [
        {
          "output_type": "stream",
          "text": [
            "Cloning into 'yolov5'...\n",
            "remote: Enumerating objects: 5437, done.\u001b[K\n",
            "remote: Total 5437 (delta 0), reused 0 (delta 0), pack-reused 5437\u001b[K\n",
            "Receiving objects: 100% (5437/5437), 8.07 MiB | 23.46 MiB/s, done.\n",
            "Resolving deltas: 100% (3713/3713), done.\n"
          ],
          "name": "stdout"
        }
      ]
    },
    {
      "cell_type": "code",
      "metadata": {
        "colab": {
          "base_uri": "https://localhost:8080/"
        },
        "id": "_EOveaNJZoFC",
        "outputId": "e046bdc0-02c4-494f-9cdd-26ab8583339c"
      },
      "source": [
        "%cd /content/yolov5/\n",
        "!pip install -r requirments.txt"
      ],
      "execution_count": 8,
      "outputs": [
        {
          "output_type": "stream",
          "text": [
            "/content/yolov5\n",
            "\u001b[31mERROR: Could not open requirements file: [Errno 2] No such file or directory: 'requirments.txt'\u001b[0m\n"
          ],
          "name": "stdout"
        }
      ]
    },
    {
      "cell_type": "code",
      "metadata": {
        "colab": {
          "base_uri": "https://localhost:8080/"
        },
        "id": "e5hMl65uZzmM",
        "outputId": "7abb0664-a69f-41bb-f404-a4d8f9af829c"
      },
      "source": [
        "ls"
      ],
      "execution_count": 9,
      "outputs": [
        {
          "output_type": "stream",
          "text": [
            "\u001b[0m\u001b[01;34mdata\u001b[0m/       hubconf.py  \u001b[01;32mREADME.md\u001b[0m*         train.py        \u001b[01;34mweights\u001b[0m/\n",
            "detect.py   LICENSE     \u001b[01;32mrequirements.txt\u001b[0m*  tutorial.ipynb\n",
            "Dockerfile  \u001b[01;34mmodels\u001b[0m/     test.py            \u001b[01;34mutils\u001b[0m/\n"
          ],
          "name": "stdout"
        }
      ]
    },
    {
      "cell_type": "code",
      "metadata": {
        "colab": {
          "base_uri": "https://localhost:8080/"
        },
        "id": "0N-3zGMJZ5n6",
        "outputId": "fb4d2768-e3e0-4306-f758-d9f68f7c93a4"
      },
      "source": [
        "!pip install -r requirements.txt"
      ],
      "execution_count": 10,
      "outputs": [
        {
          "output_type": "stream",
          "text": [
            "Requirement already satisfied: Cython in /usr/local/lib/python3.7/dist-packages (from -r requirements.txt (line 4)) (0.29.22)\n",
            "Requirement already satisfied: matplotlib>=3.2.2 in /usr/local/lib/python3.7/dist-packages (from -r requirements.txt (line 5)) (3.2.2)\n",
            "Requirement already satisfied: numpy>=1.18.5 in /usr/local/lib/python3.7/dist-packages (from -r requirements.txt (line 6)) (1.19.5)\n",
            "Requirement already satisfied: opencv-python>=4.1.2 in /usr/local/lib/python3.7/dist-packages (from -r requirements.txt (line 7)) (4.1.2.30)\n",
            "Requirement already satisfied: Pillow in /usr/local/lib/python3.7/dist-packages (from -r requirements.txt (line 8)) (7.0.0)\n",
            "Collecting PyYAML>=5.3.1\n",
            "\u001b[?25l  Downloading https://files.pythonhosted.org/packages/7a/a5/393c087efdc78091afa2af9f1378762f9821c9c1d7a22c5753fb5ac5f97a/PyYAML-5.4.1-cp37-cp37m-manylinux1_x86_64.whl (636kB)\n",
            "\u001b[K     |████████████████████████████████| 645kB 5.0MB/s \n",
            "\u001b[?25hRequirement already satisfied: scipy>=1.4.1 in /usr/local/lib/python3.7/dist-packages (from -r requirements.txt (line 10)) (1.4.1)\n",
            "Requirement already satisfied: tensorboard>=2.2 in /usr/local/lib/python3.7/dist-packages (from -r requirements.txt (line 11)) (2.4.1)\n",
            "Requirement already satisfied: torch>=1.7.0 in /usr/local/lib/python3.7/dist-packages (from -r requirements.txt (line 12)) (1.8.0+cu101)\n",
            "Requirement already satisfied: torchvision>=0.8.1 in /usr/local/lib/python3.7/dist-packages (from -r requirements.txt (line 13)) (0.9.0+cu101)\n",
            "Requirement already satisfied: tqdm>=4.41.0 in /usr/local/lib/python3.7/dist-packages (from -r requirements.txt (line 14)) (4.41.1)\n",
            "Requirement already satisfied: seaborn>=0.11.0 in /usr/local/lib/python3.7/dist-packages (from -r requirements.txt (line 20)) (0.11.1)\n",
            "Requirement already satisfied: pandas in /usr/local/lib/python3.7/dist-packages (from -r requirements.txt (line 21)) (1.1.5)\n",
            "Collecting thop\n",
            "  Downloading https://files.pythonhosted.org/packages/6c/8b/22ce44e1c71558161a8bd54471123cc796589c7ebbfc15a7e8932e522f83/thop-0.0.31.post2005241907-py3-none-any.whl\n",
            "Requirement already satisfied: pycocotools>=2.0 in /usr/local/lib/python3.7/dist-packages (from -r requirements.txt (line 30)) (2.0.2)\n",
            "Requirement already satisfied: cycler>=0.10 in /usr/local/lib/python3.7/dist-packages (from matplotlib>=3.2.2->-r requirements.txt (line 5)) (0.10.0)\n",
            "Requirement already satisfied: pyparsing!=2.0.4,!=2.1.2,!=2.1.6,>=2.0.1 in /usr/local/lib/python3.7/dist-packages (from matplotlib>=3.2.2->-r requirements.txt (line 5)) (2.4.7)\n",
            "Requirement already satisfied: python-dateutil>=2.1 in /usr/local/lib/python3.7/dist-packages (from matplotlib>=3.2.2->-r requirements.txt (line 5)) (2.8.1)\n",
            "Requirement already satisfied: kiwisolver>=1.0.1 in /usr/local/lib/python3.7/dist-packages (from matplotlib>=3.2.2->-r requirements.txt (line 5)) (1.3.1)\n",
            "Requirement already satisfied: absl-py>=0.4 in /usr/local/lib/python3.7/dist-packages (from tensorboard>=2.2->-r requirements.txt (line 11)) (0.10.0)\n",
            "Requirement already satisfied: grpcio>=1.24.3 in /usr/local/lib/python3.7/dist-packages (from tensorboard>=2.2->-r requirements.txt (line 11)) (1.32.0)\n",
            "Requirement already satisfied: markdown>=2.6.8 in /usr/local/lib/python3.7/dist-packages (from tensorboard>=2.2->-r requirements.txt (line 11)) (3.3.4)\n",
            "Requirement already satisfied: tensorboard-plugin-wit>=1.6.0 in /usr/local/lib/python3.7/dist-packages (from tensorboard>=2.2->-r requirements.txt (line 11)) (1.8.0)\n",
            "Requirement already satisfied: wheel>=0.26; python_version >= \"3\" in /usr/local/lib/python3.7/dist-packages (from tensorboard>=2.2->-r requirements.txt (line 11)) (0.36.2)\n",
            "Requirement already satisfied: werkzeug>=0.11.15 in /usr/local/lib/python3.7/dist-packages (from tensorboard>=2.2->-r requirements.txt (line 11)) (1.0.1)\n",
            "Requirement already satisfied: google-auth<2,>=1.6.3 in /usr/local/lib/python3.7/dist-packages (from tensorboard>=2.2->-r requirements.txt (line 11)) (1.27.1)\n",
            "Requirement already satisfied: setuptools>=41.0.0 in /usr/local/lib/python3.7/dist-packages (from tensorboard>=2.2->-r requirements.txt (line 11)) (54.1.2)\n",
            "Requirement already satisfied: six>=1.10.0 in /usr/local/lib/python3.7/dist-packages (from tensorboard>=2.2->-r requirements.txt (line 11)) (1.15.0)\n",
            "Requirement already satisfied: protobuf>=3.6.0 in /usr/local/lib/python3.7/dist-packages (from tensorboard>=2.2->-r requirements.txt (line 11)) (3.12.4)\n",
            "Requirement already satisfied: requests<3,>=2.21.0 in /usr/local/lib/python3.7/dist-packages (from tensorboard>=2.2->-r requirements.txt (line 11)) (2.23.0)\n",
            "Requirement already satisfied: google-auth-oauthlib<0.5,>=0.4.1 in /usr/local/lib/python3.7/dist-packages (from tensorboard>=2.2->-r requirements.txt (line 11)) (0.4.3)\n",
            "Requirement already satisfied: typing-extensions in /usr/local/lib/python3.7/dist-packages (from torch>=1.7.0->-r requirements.txt (line 12)) (3.7.4.3)\n",
            "Requirement already satisfied: pytz>=2017.2 in /usr/local/lib/python3.7/dist-packages (from pandas->-r requirements.txt (line 21)) (2018.9)\n",
            "Requirement already satisfied: importlib-metadata; python_version < \"3.8\" in /usr/local/lib/python3.7/dist-packages (from markdown>=2.6.8->tensorboard>=2.2->-r requirements.txt (line 11)) (3.7.2)\n",
            "Requirement already satisfied: cachetools<5.0,>=2.0.0 in /usr/local/lib/python3.7/dist-packages (from google-auth<2,>=1.6.3->tensorboard>=2.2->-r requirements.txt (line 11)) (4.2.1)\n",
            "Requirement already satisfied: rsa<5,>=3.1.4; python_version >= \"3.6\" in /usr/local/lib/python3.7/dist-packages (from google-auth<2,>=1.6.3->tensorboard>=2.2->-r requirements.txt (line 11)) (4.7.2)\n",
            "Requirement already satisfied: pyasn1-modules>=0.2.1 in /usr/local/lib/python3.7/dist-packages (from google-auth<2,>=1.6.3->tensorboard>=2.2->-r requirements.txt (line 11)) (0.2.8)\n",
            "Requirement already satisfied: urllib3!=1.25.0,!=1.25.1,<1.26,>=1.21.1 in /usr/local/lib/python3.7/dist-packages (from requests<3,>=2.21.0->tensorboard>=2.2->-r requirements.txt (line 11)) (1.24.3)\n",
            "Requirement already satisfied: idna<3,>=2.5 in /usr/local/lib/python3.7/dist-packages (from requests<3,>=2.21.0->tensorboard>=2.2->-r requirements.txt (line 11)) (2.10)\n",
            "Requirement already satisfied: certifi>=2017.4.17 in /usr/local/lib/python3.7/dist-packages (from requests<3,>=2.21.0->tensorboard>=2.2->-r requirements.txt (line 11)) (2020.12.5)\n",
            "Requirement already satisfied: chardet<4,>=3.0.2 in /usr/local/lib/python3.7/dist-packages (from requests<3,>=2.21.0->tensorboard>=2.2->-r requirements.txt (line 11)) (3.0.4)\n",
            "Requirement already satisfied: requests-oauthlib>=0.7.0 in /usr/local/lib/python3.7/dist-packages (from google-auth-oauthlib<0.5,>=0.4.1->tensorboard>=2.2->-r requirements.txt (line 11)) (1.3.0)\n",
            "Requirement already satisfied: zipp>=0.5 in /usr/local/lib/python3.7/dist-packages (from importlib-metadata; python_version < \"3.8\"->markdown>=2.6.8->tensorboard>=2.2->-r requirements.txt (line 11)) (3.4.1)\n",
            "Requirement already satisfied: pyasn1>=0.1.3 in /usr/local/lib/python3.7/dist-packages (from rsa<5,>=3.1.4; python_version >= \"3.6\"->google-auth<2,>=1.6.3->tensorboard>=2.2->-r requirements.txt (line 11)) (0.4.8)\n",
            "Requirement already satisfied: oauthlib>=3.0.0 in /usr/local/lib/python3.7/dist-packages (from requests-oauthlib>=0.7.0->google-auth-oauthlib<0.5,>=0.4.1->tensorboard>=2.2->-r requirements.txt (line 11)) (3.1.0)\n",
            "Installing collected packages: PyYAML, thop\n",
            "  Found existing installation: PyYAML 3.13\n",
            "    Uninstalling PyYAML-3.13:\n",
            "      Successfully uninstalled PyYAML-3.13\n",
            "Successfully installed PyYAML-5.4.1 thop-0.0.31.post2005241907\n"
          ],
          "name": "stdout"
        }
      ]
    },
    {
      "cell_type": "code",
      "metadata": {
        "colab": {
          "base_uri": "https://localhost:8080/",
          "height": 391
        },
        "id": "MKU16RlgaAxi",
        "outputId": "357e9fa0-bbde-41e4-eab9-5cb13b39b4b9"
      },
      "source": [
        "%cd /\n",
        "from glob import glob\n",
        "img_list = glob('/content/dataset//*.jpg')\n",
        "from sklearn.model_selection import train_test_split\n",
        "train, val = train_test_split(img_list, test_size=0.2, random_state=2000)"
      ],
      "execution_count": 12,
      "outputs": [
        {
          "output_type": "stream",
          "text": [
            "/\n"
          ],
          "name": "stdout"
        },
        {
          "output_type": "error",
          "ename": "ValueError",
          "evalue": "ignored",
          "traceback": [
            "\u001b[0;31m---------------------------------------------------------------------------\u001b[0m",
            "\u001b[0;31mValueError\u001b[0m                                Traceback (most recent call last)",
            "\u001b[0;32m<ipython-input-12-b22b86328c21>\u001b[0m in \u001b[0;36m<module>\u001b[0;34m()\u001b[0m\n\u001b[1;32m      3\u001b[0m \u001b[0mimg_list\u001b[0m \u001b[0;34m=\u001b[0m \u001b[0mglob\u001b[0m\u001b[0;34m(\u001b[0m\u001b[0;34m'/content/dataset/(location of images)/*.jpg'\u001b[0m\u001b[0;34m)\u001b[0m\u001b[0;34m\u001b[0m\u001b[0;34m\u001b[0m\u001b[0m\n\u001b[1;32m      4\u001b[0m \u001b[0;32mfrom\u001b[0m \u001b[0msklearn\u001b[0m\u001b[0;34m.\u001b[0m\u001b[0mmodel_selection\u001b[0m \u001b[0;32mimport\u001b[0m \u001b[0mtrain_test_split\u001b[0m\u001b[0;34m\u001b[0m\u001b[0;34m\u001b[0m\u001b[0m\n\u001b[0;32m----> 5\u001b[0;31m \u001b[0mtrain\u001b[0m\u001b[0;34m,\u001b[0m \u001b[0mval\u001b[0m \u001b[0;34m=\u001b[0m \u001b[0mtrain_test_split\u001b[0m\u001b[0;34m(\u001b[0m\u001b[0mimg_list\u001b[0m\u001b[0;34m,\u001b[0m \u001b[0mtest_size\u001b[0m\u001b[0;34m=\u001b[0m\u001b[0;36m0.2\u001b[0m\u001b[0;34m,\u001b[0m \u001b[0mrandom_state\u001b[0m\u001b[0;34m=\u001b[0m\u001b[0;36m2000\u001b[0m\u001b[0;34m)\u001b[0m\u001b[0;34m\u001b[0m\u001b[0;34m\u001b[0m\u001b[0m\n\u001b[0m",
            "\u001b[0;32m/usr/local/lib/python3.7/dist-packages/sklearn/model_selection/_split.py\u001b[0m in \u001b[0;36mtrain_test_split\u001b[0;34m(*arrays, **options)\u001b[0m\n\u001b[1;32m   2120\u001b[0m     \u001b[0mn_samples\u001b[0m \u001b[0;34m=\u001b[0m \u001b[0m_num_samples\u001b[0m\u001b[0;34m(\u001b[0m\u001b[0marrays\u001b[0m\u001b[0;34m[\u001b[0m\u001b[0;36m0\u001b[0m\u001b[0;34m]\u001b[0m\u001b[0;34m)\u001b[0m\u001b[0;34m\u001b[0m\u001b[0;34m\u001b[0m\u001b[0m\n\u001b[1;32m   2121\u001b[0m     n_train, n_test = _validate_shuffle_split(n_samples, test_size, train_size,\n\u001b[0;32m-> 2122\u001b[0;31m                                               default_test_size=0.25)\n\u001b[0m\u001b[1;32m   2123\u001b[0m \u001b[0;34m\u001b[0m\u001b[0m\n\u001b[1;32m   2124\u001b[0m     \u001b[0;32mif\u001b[0m \u001b[0mshuffle\u001b[0m \u001b[0;32mis\u001b[0m \u001b[0;32mFalse\u001b[0m\u001b[0;34m:\u001b[0m\u001b[0;34m\u001b[0m\u001b[0;34m\u001b[0m\u001b[0m\n",
            "\u001b[0;32m/usr/local/lib/python3.7/dist-packages/sklearn/model_selection/_split.py\u001b[0m in \u001b[0;36m_validate_shuffle_split\u001b[0;34m(n_samples, test_size, train_size, default_test_size)\u001b[0m\n\u001b[1;32m   1803\u001b[0m             \u001b[0;34m'resulting train set will be empty. Adjust any of the '\u001b[0m\u001b[0;34m\u001b[0m\u001b[0;34m\u001b[0m\u001b[0m\n\u001b[1;32m   1804\u001b[0m             'aforementioned parameters.'.format(n_samples, test_size,\n\u001b[0;32m-> 1805\u001b[0;31m                                                 train_size)\n\u001b[0m\u001b[1;32m   1806\u001b[0m         )\n\u001b[1;32m   1807\u001b[0m \u001b[0;34m\u001b[0m\u001b[0m\n",
            "\u001b[0;31mValueError\u001b[0m: With n_samples=0, test_size=0.2 and train_size=None, the resulting train set will be empty. Adjust any of the aforementioned parameters."
          ]
        }
      ]
    },
    {
      "cell_type": "code",
      "metadata": {
        "colab": {
          "base_uri": "https://localhost:8080/"
        },
        "id": "2da-bsJ7eMJt",
        "outputId": "513c4855-11fc-4e81-8503-bf60969f16c8"
      },
      "source": [
        "import yaml\n",
        "with open('/content/dataset/data.yaml', 'r') as f:\n",
        "  data = yaml.load(f)\n",
        "data['train'] = '/content/dataset/train/images'\n",
        "data['val'] = '/content/dataset/valid/images'\n",
        "with open('/content/dataset/data.yaml', 'w') as f:\n",
        "  yaml.dump(data, f)\n",
        "print(data)"
      ],
      "execution_count": 19,
      "outputs": [
        {
          "output_type": "stream",
          "text": [
            "{'names': ['Apple', 'Apricot', 'Avocado', 'Banana', 'Beetroot', 'Blueberry', 'Cactus', 'Cantaloupe', 'Carambula', 'Cauliflower', 'Cherry', 'Chestnut', 'Clementine', 'Cocos', 'Dates', 'Eggplant', 'Ginger', 'Granadilla', 'Grape', 'Grapefruit', 'Guava', 'Hazelnut', 'Huckleberry', 'Kaki', 'Kiwi', 'Kohlrabi', 'Kumquats', 'Lemon', 'Limes', 'Lychee', 'Mandarine', 'Mango', 'Mangostan', 'Maracuja', 'Melon', 'Mulberry', 'Nectarine', 'Nut', 'Onion', 'Orange', 'Papaya', 'Passion', 'Peach', 'Pear', 'Pepino', 'Pepper', 'Physalis', 'Pineapple', 'Pitahaya', 'Plum', 'Pomegranate', 'Pomelo', 'Potato', 'Quince', 'Rambutan', 'Raspberry', 'Redcurrant', 'Salak', 'Strawberry', 'Tamarillo', 'Tangelo', 'Tomato', 'Walnut'], 'nc': 63, 'train': '/content/dataset/train/images', 'val': '/content/dataset/valid/images'}\n"
          ],
          "name": "stdout"
        },
        {
          "output_type": "stream",
          "text": [
            "/usr/local/lib/python3.7/dist-packages/ipykernel_launcher.py:3: YAMLLoadWarning: calling yaml.load() without Loader=... is deprecated, as the default Loader is unsafe. Please read https://msg.pyyaml.org/load for full details.\n",
            "  This is separate from the ipykernel package so we can avoid doing imports until\n"
          ],
          "name": "stderr"
        }
      ]
    },
    {
      "cell_type": "code",
      "metadata": {
        "colab": {
          "base_uri": "https://localhost:8080/"
        },
        "id": "fve7Z-3SgDzU",
        "outputId": "d465eee1-bec9-4ddd-fa14-730964e11ce4"
      },
      "source": [
        "%cd /content/yolov5/\n",
        "!python train.py --img 416 --batch 16 --epochs 50 --data /content/dataset/data.yaml --cfg ./models/yolov5s.yaml --weights yolov5s.pt --name fruit_yolov5s_results"
      ],
      "execution_count": 20,
      "outputs": [
        {
          "output_type": "stream",
          "text": [
            "/content/yolov5\n",
            "\u001b[34m\u001b[1mgithub: \u001b[0mup to date with https://github.com/ultralytics/yolov5 ✅\n",
            "YOLOv5 🚀 v4.0-138-ged2c742 torch 1.8.0+cu101 CUDA:0 (Tesla K80, 11441.1875MB)\n",
            "\n",
            "Namespace(adam=False, batch_size=16, bucket='', cache_images=False, cfg='./models/yolov5s.yaml', data='/content/dataset/data.yaml', device='', entity=None, epochs=50, evolve=False, exist_ok=False, global_rank=-1, hyp='data/hyp.scratch.yaml', image_weights=False, img_size=[416, 416], linear_lr=False, local_rank=-1, log_artifacts=False, log_imgs=16, multi_scale=False, name='fruit_yolov5s_results', noautoanchor=False, nosave=False, notest=False, project='runs/train', quad=False, rect=False, resume=False, save_dir='runs/train/fruit_yolov5s_results2', single_cls=False, sync_bn=False, total_batch_size=16, weights='yolov5s.pt', workers=8, world_size=1)\n",
            "\u001b[34m\u001b[1mwandb: \u001b[0mInstall Weights & Biases for YOLOv5 logging with 'pip install wandb' (recommended)\n",
            "Start Tensorboard with \"tensorboard --logdir runs/train\", view at http://localhost:6006/\n",
            "2021-03-22 15:23:40.812094: I tensorflow/stream_executor/platform/default/dso_loader.cc:49] Successfully opened dynamic library libcudart.so.11.0\n",
            "\u001b[34m\u001b[1mhyperparameters: \u001b[0mlr0=0.01, lrf=0.2, momentum=0.937, weight_decay=0.0005, warmup_epochs=3.0, warmup_momentum=0.8, warmup_bias_lr=0.1, box=0.05, cls=0.5, cls_pw=1.0, obj=1.0, obj_pw=1.0, iou_t=0.2, anchor_t=4.0, fl_gamma=0.0, hsv_h=0.015, hsv_s=0.7, hsv_v=0.4, degrees=0.0, translate=0.1, scale=0.5, shear=0.0, perspective=0.0, flipud=0.0, fliplr=0.5, mosaic=1.0, mixup=0.0\n",
            "Downloading https://github.com/ultralytics/yolov5/releases/download/v4.0/yolov5s.pt to yolov5s.pt...\n",
            "100% 14.1M/14.1M [00:00<00:00, 35.2MB/s]\n",
            "\n",
            "Overriding model.yaml nc=80 with nc=63\n",
            "\n",
            "                 from  n    params  module                                  arguments                     \n",
            "  0                -1  1      3520  models.common.Focus                     [3, 32, 3]                    \n",
            "  1                -1  1     18560  models.common.Conv                      [32, 64, 3, 2]                \n",
            "  2                -1  1     18816  models.common.C3                        [64, 64, 1]                   \n",
            "  3                -1  1     73984  models.common.Conv                      [64, 128, 3, 2]               \n",
            "  4                -1  1    156928  models.common.C3                        [128, 128, 3]                 \n",
            "  5                -1  1    295424  models.common.Conv                      [128, 256, 3, 2]              \n",
            "  6                -1  1    625152  models.common.C3                        [256, 256, 3]                 \n",
            "  7                -1  1   1180672  models.common.Conv                      [256, 512, 3, 2]              \n",
            "  8                -1  1    656896  models.common.SPP                       [512, 512, [5, 9, 13]]        \n",
            "  9                -1  1   1182720  models.common.C3                        [512, 512, 1, False]          \n",
            " 10                -1  1    131584  models.common.Conv                      [512, 256, 1, 1]              \n",
            " 11                -1  1         0  torch.nn.modules.upsampling.Upsample    [None, 2, 'nearest']          \n",
            " 12           [-1, 6]  1         0  models.common.Concat                    [1]                           \n",
            " 13                -1  1    361984  models.common.C3                        [512, 256, 1, False]          \n",
            " 14                -1  1     33024  models.common.Conv                      [256, 128, 1, 1]              \n",
            " 15                -1  1         0  torch.nn.modules.upsampling.Upsample    [None, 2, 'nearest']          \n",
            " 16           [-1, 4]  1         0  models.common.Concat                    [1]                           \n",
            " 17                -1  1     90880  models.common.C3                        [256, 128, 1, False]          \n",
            " 18                -1  1    147712  models.common.Conv                      [128, 128, 3, 2]              \n",
            " 19          [-1, 14]  1         0  models.common.Concat                    [1]                           \n",
            " 20                -1  1    296448  models.common.C3                        [256, 256, 1, False]          \n",
            " 21                -1  1    590336  models.common.Conv                      [256, 256, 3, 2]              \n",
            " 22          [-1, 10]  1         0  models.common.Concat                    [1]                           \n",
            " 23                -1  1   1182720  models.common.C3                        [512, 512, 1, False]          \n",
            " 24      [17, 20, 23]  1    183396  models.yolo.Detect                      [63, [[10, 13, 16, 30, 33, 23], [30, 61, 62, 45, 59, 119], [116, 90, 156, 198, 373, 326]], [128, 256, 512]]\n",
            "Model Summary: 283 layers, 7230756 parameters, 7230756 gradients, 16.9 GFLOPS\n",
            "\n",
            "Transferred 354/362 items from yolov5s.pt\n",
            "Scaled weight_decay = 0.0005\n",
            "Optimizer groups: 62 .bias, 62 conv.weight, 59 other\n",
            "\u001b[34m\u001b[1mtrain: \u001b[0mScanning '/content/dataset/train/labels' images and labels... 5000 found, 0 missing, 0 empty, 0 corrupted: 100% 5000/5000 [00:02<00:00, 2336.43it/s]\n",
            "\u001b[34m\u001b[1mtrain: \u001b[0mNew cache created: /content/dataset/train/labels.cache\n",
            "\u001b[34m\u001b[1mval: \u001b[0mScanning '/content/dataset/valid/labels' images and labels... 1000 found, 0 missing, 0 empty, 0 corrupted: 100% 1000/1000 [00:00<00:00, 1370.64it/s]\n",
            "\u001b[34m\u001b[1mval: \u001b[0mNew cache created: /content/dataset/valid/labels.cache\n",
            "Plotting labels... \n",
            "\n",
            "\u001b[34m\u001b[1mautoanchor: \u001b[0mAnalyzing anchors... anchors/target = 6.19, Best Possible Recall (BPR) = 1.0000\n",
            "Image sizes 416 train, 416 test\n",
            "Using 2 dataloader workers\n",
            "Logging results to runs/train/fruit_yolov5s_results2\n",
            "Starting training for 50 epochs...\n",
            "\n",
            "     Epoch   gpu_mem       box       obj       cls     total    labels  img_size\n",
            "      0/49     1.28G   0.06552   0.03466    0.1019    0.2021        65       416: 100% 313/313 [02:30<00:00,  2.07it/s]\n",
            "               Class      Images      Labels           P           R      mAP@.5  mAP@.5:.95: 100% 32/32 [00:18<00:00,  1.73it/s]\n",
            "                 all        1000        2803      0.0162       0.591      0.0203      0.0128\n",
            "\n",
            "     Epoch   gpu_mem       box       obj       cls     total    labels  img_size\n",
            "      1/49      1.4G   0.04242   0.02499   0.09826    0.1657        38       416: 100% 313/313 [02:24<00:00,  2.16it/s]\n",
            "               Class      Images      Labels           P           R      mAP@.5  mAP@.5:.95: 100% 32/32 [00:16<00:00,  1.94it/s]\n",
            "                 all        1000        2803      0.0249       0.192      0.0234      0.0137\n",
            "\n",
            "     Epoch   gpu_mem       box       obj       cls     total    labels  img_size\n",
            "      2/49      1.4G   0.03807   0.02344   0.09701    0.1585        25       416: 100% 313/313 [02:24<00:00,  2.17it/s]\n",
            "               Class      Images      Labels           P           R      mAP@.5  mAP@.5:.95: 100% 32/32 [00:16<00:00,  1.97it/s]\n",
            "                 all        1000        2803      0.0392       0.181      0.0458      0.0282\n",
            "\n",
            "     Epoch   gpu_mem       box       obj       cls     total    labels  img_size\n",
            "      3/49      1.4G   0.03359   0.02163    0.0947    0.1499        42       416: 100% 313/313 [02:21<00:00,  2.22it/s]\n",
            "               Class      Images      Labels           P           R      mAP@.5  mAP@.5:.95: 100% 32/32 [00:15<00:00,  2.01it/s]\n",
            "                 all        1000        2803      0.0619       0.314      0.0882      0.0581\n",
            "\n",
            "     Epoch   gpu_mem       box       obj       cls     total    labels  img_size\n",
            "      4/49      1.4G   0.03009   0.02083   0.09057    0.1415        48       416: 100% 313/313 [02:19<00:00,  2.24it/s]\n",
            "               Class      Images      Labels           P           R      mAP@.5  mAP@.5:.95: 100% 32/32 [00:15<00:00,  2.06it/s]\n",
            "                 all        1000        2803      0.0836       0.408       0.153       0.114\n",
            "\n",
            "     Epoch   gpu_mem       box       obj       cls     total    labels  img_size\n",
            "      5/49      1.4G   0.02891    0.0202   0.08578    0.1349        38       416: 100% 313/313 [02:19<00:00,  2.25it/s]\n",
            "               Class      Images      Labels           P           R      mAP@.5  mAP@.5:.95: 100% 32/32 [00:15<00:00,  2.10it/s]\n",
            "                 all        1000        2803       0.169       0.461       0.234       0.177\n",
            "\n",
            "     Epoch   gpu_mem       box       obj       cls     total    labels  img_size\n",
            "      6/49      1.4G   0.02891   0.02015   0.08016    0.1292        30       416: 100% 313/313 [02:19<00:00,  2.25it/s]\n",
            "               Class      Images      Labels           P           R      mAP@.5  mAP@.5:.95: 100% 32/32 [00:15<00:00,  2.04it/s]\n",
            "                 all        1000        2803         0.2       0.483       0.317       0.222\n",
            "\n",
            "     Epoch   gpu_mem       box       obj       cls     total    labels  img_size\n",
            "      7/49      1.4G   0.02879   0.01964   0.07441    0.1228        44       416: 100% 313/313 [02:23<00:00,  2.19it/s]\n",
            "               Class      Images      Labels           P           R      mAP@.5  mAP@.5:.95: 100% 32/32 [00:15<00:00,  2.03it/s]\n",
            "                 all        1000        2803       0.683       0.317       0.395       0.286\n",
            "\n",
            "     Epoch   gpu_mem       box       obj       cls     total    labels  img_size\n",
            "      8/49      1.4G   0.02924    0.0196   0.06851    0.1174        29       416: 100% 313/313 [02:23<00:00,  2.19it/s]\n",
            "               Class      Images      Labels           P           R      mAP@.5  mAP@.5:.95: 100% 32/32 [00:15<00:00,  2.05it/s]\n",
            "                 all        1000        2803       0.653       0.393       0.452       0.338\n",
            "\n",
            "     Epoch   gpu_mem       box       obj       cls     total    labels  img_size\n",
            "      9/49      1.4G   0.02881    0.0196   0.06283    0.1112        32       416: 100% 313/313 [02:23<00:00,  2.19it/s]\n",
            "               Class      Images      Labels           P           R      mAP@.5  mAP@.5:.95: 100% 32/32 [00:15<00:00,  2.04it/s]\n",
            "                 all        1000        2803        0.67       0.478       0.537       0.399\n",
            "\n",
            "     Epoch   gpu_mem       box       obj       cls     total    labels  img_size\n",
            "     10/49      1.4G   0.02937   0.01935   0.05804    0.1068        31       416: 100% 313/313 [02:25<00:00,  2.16it/s]\n",
            "               Class      Images      Labels           P           R      mAP@.5  mAP@.5:.95: 100% 32/32 [00:15<00:00,  2.04it/s]\n",
            "                 all        1000        2803       0.591       0.569       0.596       0.411\n",
            "\n",
            "     Epoch   gpu_mem       box       obj       cls     total    labels  img_size\n",
            "     11/49      1.4G   0.02958   0.01974   0.05311    0.1024        35       416: 100% 313/313 [02:23<00:00,  2.18it/s]\n",
            "               Class      Images      Labels           P           R      mAP@.5  mAP@.5:.95: 100% 32/32 [00:15<00:00,  2.03it/s]\n",
            "                 all        1000        2803       0.694        0.59       0.644       0.487\n",
            "\n",
            "     Epoch   gpu_mem       box       obj       cls     total    labels  img_size\n",
            "     12/49      1.4G   0.02922   0.01927   0.04865   0.09713        29       416: 100% 313/313 [02:25<00:00,  2.16it/s]\n",
            "               Class      Images      Labels           P           R      mAP@.5  mAP@.5:.95: 100% 32/32 [00:15<00:00,  2.09it/s]\n",
            "                 all        1000        2803       0.599       0.655       0.655         0.5\n",
            "\n",
            "     Epoch   gpu_mem       box       obj       cls     total    labels  img_size\n",
            "     13/49      1.4G   0.02923   0.01932   0.04511   0.09367        48       416: 100% 313/313 [02:25<00:00,  2.15it/s]\n",
            "               Class      Images      Labels           P           R      mAP@.5  mAP@.5:.95: 100% 32/32 [00:14<00:00,  2.14it/s]\n",
            "                 all        1000        2803       0.599       0.648       0.649       0.495\n",
            "\n",
            "     Epoch   gpu_mem       box       obj       cls     total    labels  img_size\n",
            "     14/49      1.4G   0.02897   0.01955   0.04281   0.09133        32       416: 100% 313/313 [02:25<00:00,  2.16it/s]\n",
            "               Class      Images      Labels           P           R      mAP@.5  mAP@.5:.95: 100% 32/32 [00:15<00:00,  2.11it/s]\n",
            "                 all        1000        2803       0.754         0.7       0.751       0.577\n",
            "\n",
            "     Epoch   gpu_mem       box       obj       cls     total    labels  img_size\n",
            "     15/49      1.4G   0.02841   0.01883   0.03946    0.0867        39       416: 100% 313/313 [02:24<00:00,  2.17it/s]\n",
            "               Class      Images      Labels           P           R      mAP@.5  mAP@.5:.95: 100% 32/32 [00:15<00:00,  2.09it/s]\n",
            "                 all        1000        2803       0.717       0.743       0.762       0.591\n",
            "\n",
            "     Epoch   gpu_mem       box       obj       cls     total    labels  img_size\n",
            "     16/49      1.4G   0.02891   0.01931   0.03758   0.08579        53       416: 100% 313/313 [02:25<00:00,  2.16it/s]\n",
            "               Class      Images      Labels           P           R      mAP@.5  mAP@.5:.95: 100% 32/32 [00:15<00:00,  2.13it/s]\n",
            "                 all        1000        2803       0.736       0.737       0.766       0.596\n",
            "\n",
            "     Epoch   gpu_mem       box       obj       cls     total    labels  img_size\n",
            "     17/49      1.4G   0.02816   0.01918   0.03524   0.08257        38       416: 100% 313/313 [02:24<00:00,  2.16it/s]\n",
            "               Class      Images      Labels           P           R      mAP@.5  mAP@.5:.95: 100% 32/32 [00:15<00:00,  2.10it/s]\n",
            "                 all        1000        2803       0.775       0.774       0.815       0.647\n",
            "\n",
            "     Epoch   gpu_mem       box       obj       cls     total    labels  img_size\n",
            "     18/49      1.4G   0.02778   0.01887   0.03395    0.0806        41       416: 100% 313/313 [02:25<00:00,  2.16it/s]\n",
            "               Class      Images      Labels           P           R      mAP@.5  mAP@.5:.95: 100% 32/32 [00:15<00:00,  2.10it/s]\n",
            "                 all        1000        2803       0.814       0.777       0.822        0.64\n",
            "\n",
            "     Epoch   gpu_mem       box       obj       cls     total    labels  img_size\n",
            "     19/49      1.4G   0.02784   0.01916   0.03254   0.07954        35       416: 100% 313/313 [02:25<00:00,  2.15it/s]\n",
            "               Class      Images      Labels           P           R      mAP@.5  mAP@.5:.95: 100% 32/32 [00:15<00:00,  2.09it/s]\n",
            "                 all        1000        2803       0.804       0.785       0.834       0.661\n",
            "\n",
            "     Epoch   gpu_mem       box       obj       cls     total    labels  img_size\n",
            "     20/49      1.4G   0.02728   0.01877   0.03146   0.07752        30       416: 100% 313/313 [02:23<00:00,  2.17it/s]\n",
            "               Class      Images      Labels           P           R      mAP@.5  mAP@.5:.95: 100% 32/32 [00:14<00:00,  2.14it/s]\n",
            "                 all        1000        2803       0.833       0.783       0.842       0.666\n",
            "\n",
            "     Epoch   gpu_mem       box       obj       cls     total    labels  img_size\n",
            "     21/49      1.4G   0.02684   0.01871   0.03012   0.07568        42       416: 100% 313/313 [02:25<00:00,  2.15it/s]\n",
            "               Class      Images      Labels           P           R      mAP@.5  mAP@.5:.95: 100% 32/32 [00:15<00:00,  2.12it/s]\n",
            "                 all        1000        2803        0.75       0.767       0.792       0.628\n",
            "\n",
            "     Epoch   gpu_mem       box       obj       cls     total    labels  img_size\n",
            "     22/49      1.4G   0.02651    0.0185     0.029   0.07401        36       416: 100% 313/313 [02:25<00:00,  2.15it/s]\n",
            "               Class      Images      Labels           P           R      mAP@.5  mAP@.5:.95: 100% 32/32 [00:14<00:00,  2.14it/s]\n",
            "                 all        1000        2803        0.85       0.808       0.861       0.693\n",
            "\n",
            "     Epoch   gpu_mem       box       obj       cls     total    labels  img_size\n",
            "     23/49      1.4G   0.02606   0.01816   0.02721   0.07143        34       416: 100% 313/313 [02:26<00:00,  2.13it/s]\n",
            "               Class      Images      Labels           P           R      mAP@.5  mAP@.5:.95: 100% 32/32 [00:15<00:00,  2.05it/s]\n",
            "                 all        1000        2803       0.867       0.835       0.885       0.718\n",
            "\n",
            "     Epoch   gpu_mem       box       obj       cls     total    labels  img_size\n",
            "     24/49      1.4G   0.02616    0.0182    0.0263   0.07066        36       416: 100% 313/313 [02:28<00:00,  2.11it/s]\n",
            "               Class      Images      Labels           P           R      mAP@.5  mAP@.5:.95: 100% 32/32 [00:14<00:00,  2.14it/s]\n",
            "                 all        1000        2803        0.87       0.809       0.873       0.709\n",
            "\n",
            "     Epoch   gpu_mem       box       obj       cls     total    labels  img_size\n",
            "     25/49      1.4G   0.02574   0.01782   0.02558   0.06914        59       416: 100% 313/313 [02:28<00:00,  2.11it/s]\n",
            "               Class      Images      Labels           P           R      mAP@.5  mAP@.5:.95: 100% 32/32 [00:15<00:00,  2.10it/s]\n",
            "                 all        1000        2803       0.903       0.834       0.895       0.727\n",
            "\n",
            "     Epoch   gpu_mem       box       obj       cls     total    labels  img_size\n",
            "     26/49      1.4G   0.02484    0.0181   0.02458   0.06752        43       416: 100% 313/313 [02:25<00:00,  2.15it/s]\n",
            "               Class      Images      Labels           P           R      mAP@.5  mAP@.5:.95: 100% 32/32 [00:14<00:00,  2.15it/s]\n",
            "                 all        1000        2803       0.866       0.845       0.892       0.732\n",
            "\n",
            "     Epoch   gpu_mem       box       obj       cls     total    labels  img_size\n",
            "     27/49      1.4G   0.02487    0.0177   0.02397   0.06654        29       416: 100% 313/313 [02:22<00:00,  2.19it/s]\n",
            "               Class      Images      Labels           P           R      mAP@.5  mAP@.5:.95: 100% 32/32 [00:14<00:00,  2.16it/s]\n",
            "                 all        1000        2803       0.894       0.842       0.899       0.741\n",
            "\n",
            "     Epoch   gpu_mem       box       obj       cls     total    labels  img_size\n",
            "     28/49      1.4G   0.02477   0.01779   0.02334    0.0659        44       416: 100% 313/313 [02:22<00:00,  2.19it/s]\n",
            "               Class      Images      Labels           P           R      mAP@.5  mAP@.5:.95: 100% 32/32 [00:14<00:00,  2.16it/s]\n",
            "                 all        1000        2803       0.874       0.873       0.907       0.742\n",
            "\n",
            "     Epoch   gpu_mem       box       obj       cls     total    labels  img_size\n",
            "     29/49      1.4G   0.02418   0.01731   0.02276   0.06426        48       416: 100% 313/313 [02:21<00:00,  2.21it/s]\n",
            "               Class      Images      Labels           P           R      mAP@.5  mAP@.5:.95: 100% 32/32 [00:14<00:00,  2.20it/s]\n",
            "                 all        1000        2803       0.902       0.833       0.894       0.734\n",
            "\n",
            "     Epoch   gpu_mem       box       obj       cls     total    labels  img_size\n",
            "     30/49      1.4G   0.02446   0.01738   0.02218   0.06402        69       416: 100% 313/313 [02:24<00:00,  2.17it/s]\n",
            "               Class      Images      Labels           P           R      mAP@.5  mAP@.5:.95: 100% 32/32 [00:14<00:00,  2.15it/s]\n",
            "                 all        1000        2803       0.886        0.87       0.908       0.751\n",
            "\n",
            "     Epoch   gpu_mem       box       obj       cls     total    labels  img_size\n",
            "     31/49      1.4G   0.02359    0.0172   0.02109   0.06188        32       416: 100% 313/313 [02:25<00:00,  2.15it/s]\n",
            "               Class      Images      Labels           P           R      mAP@.5  mAP@.5:.95: 100% 32/32 [00:14<00:00,  2.14it/s]\n",
            "                 all        1000        2803       0.906        0.88       0.921       0.766\n",
            "\n",
            "     Epoch   gpu_mem       box       obj       cls     total    labels  img_size\n",
            "     32/49      1.4G   0.02322   0.01691   0.02083   0.06096        30       416: 100% 313/313 [02:24<00:00,  2.17it/s]\n",
            "               Class      Images      Labels           P           R      mAP@.5  mAP@.5:.95: 100% 32/32 [00:14<00:00,  2.15it/s]\n",
            "                 all        1000        2803       0.915       0.859       0.913       0.756\n",
            "\n",
            "     Epoch   gpu_mem       box       obj       cls     total    labels  img_size\n",
            "     33/49      1.4G   0.02335    0.0168   0.02037   0.06052        36       416: 100% 313/313 [02:25<00:00,  2.15it/s]\n",
            "               Class      Images      Labels           P           R      mAP@.5  mAP@.5:.95: 100% 32/32 [00:14<00:00,  2.15it/s]\n",
            "                 all        1000        2803       0.928       0.859       0.918       0.762\n",
            "\n",
            "     Epoch   gpu_mem       box       obj       cls     total    labels  img_size\n",
            "     34/49      1.4G   0.02294   0.01663   0.01978   0.05935        30       416: 100% 313/313 [02:24<00:00,  2.17it/s]\n",
            "               Class      Images      Labels           P           R      mAP@.5  mAP@.5:.95: 100% 32/32 [00:14<00:00,  2.20it/s]\n",
            "                 all        1000        2803       0.908       0.873       0.919       0.765\n",
            "\n",
            "     Epoch   gpu_mem       box       obj       cls     total    labels  img_size\n",
            "     35/49      1.4G   0.02256    0.0167   0.01945   0.05871        32       416: 100% 313/313 [02:22<00:00,  2.19it/s]\n",
            "               Class      Images      Labels           P           R      mAP@.5  mAP@.5:.95: 100% 32/32 [00:14<00:00,  2.20it/s]\n",
            "                 all        1000        2803       0.926       0.876       0.925       0.773\n",
            "\n",
            "     Epoch   gpu_mem       box       obj       cls     total    labels  img_size\n",
            "     36/49      1.4G    0.0222    0.0164     0.019    0.0576        30       416: 100% 313/313 [02:23<00:00,  2.18it/s]\n",
            "               Class      Images      Labels           P           R      mAP@.5  mAP@.5:.95: 100% 32/32 [00:14<00:00,  2.20it/s]\n",
            "                 all        1000        2803       0.916       0.882        0.92       0.771\n",
            "\n",
            "     Epoch   gpu_mem       box       obj       cls     total    labels  img_size\n",
            "     37/49      1.4G    0.0217   0.01611   0.01847   0.05628        52       416: 100% 313/313 [02:22<00:00,  2.19it/s]\n",
            "               Class      Images      Labels           P           R      mAP@.5  mAP@.5:.95: 100% 32/32 [00:14<00:00,  2.23it/s]\n",
            "                 all        1000        2803       0.932       0.884        0.93       0.784\n",
            "\n",
            "     Epoch   gpu_mem       box       obj       cls     total    labels  img_size\n",
            "     38/49      1.4G   0.02153   0.01594   0.01797   0.05544        26       416: 100% 313/313 [02:22<00:00,  2.20it/s]\n",
            "               Class      Images      Labels           P           R      mAP@.5  mAP@.5:.95: 100% 32/32 [00:14<00:00,  2.22it/s]\n",
            "                 all        1000        2803       0.925       0.892       0.931       0.783\n",
            "\n",
            "     Epoch   gpu_mem       box       obj       cls     total    labels  img_size\n",
            "     39/49      1.4G   0.02131   0.01599   0.01737   0.05468        28       416: 100% 313/313 [02:23<00:00,  2.18it/s]\n",
            "               Class      Images      Labels           P           R      mAP@.5  mAP@.5:.95: 100% 32/32 [00:14<00:00,  2.16it/s]\n",
            "                 all        1000        2803       0.931       0.883        0.93       0.786\n",
            "\n",
            "     Epoch   gpu_mem       box       obj       cls     total    labels  img_size\n",
            "     40/49      1.4G   0.02134   0.01591   0.01688   0.05414        47       416: 100% 313/313 [02:25<00:00,  2.15it/s]\n",
            "               Class      Images      Labels           P           R      mAP@.5  mAP@.5:.95: 100% 32/32 [00:14<00:00,  2.19it/s]\n",
            "                 all        1000        2803       0.931       0.886       0.931       0.788\n",
            "\n",
            "     Epoch   gpu_mem       box       obj       cls     total    labels  img_size\n",
            "     41/49      1.4G   0.02098   0.01579   0.01646   0.05322        51       416: 100% 313/313 [02:24<00:00,  2.16it/s]\n",
            "               Class      Images      Labels           P           R      mAP@.5  mAP@.5:.95: 100% 32/32 [00:14<00:00,  2.19it/s]\n",
            "                 all        1000        2803       0.938       0.891       0.933        0.79\n",
            "\n",
            "     Epoch   gpu_mem       box       obj       cls     total    labels  img_size\n",
            "     42/49      1.4G   0.02072   0.01552   0.01639   0.05263        54       416: 100% 313/313 [02:24<00:00,  2.17it/s]\n",
            "               Class      Images      Labels           P           R      mAP@.5  mAP@.5:.95: 100% 32/32 [00:14<00:00,  2.20it/s]\n",
            "                 all        1000        2803       0.931       0.886       0.932       0.792\n",
            "\n",
            "     Epoch   gpu_mem       box       obj       cls     total    labels  img_size\n",
            "     43/49      1.4G   0.02057   0.01567   0.01622   0.05245        36       416: 100% 313/313 [02:24<00:00,  2.16it/s]\n",
            "               Class      Images      Labels           P           R      mAP@.5  mAP@.5:.95: 100% 32/32 [00:14<00:00,  2.23it/s]\n",
            "                 all        1000        2803       0.939       0.898       0.937       0.798\n",
            "\n",
            "     Epoch   gpu_mem       box       obj       cls     total    labels  img_size\n",
            "     44/49      1.4G   0.02052   0.01547   0.01554   0.05153        38       416: 100% 313/313 [02:24<00:00,  2.16it/s]\n",
            "               Class      Images      Labels           P           R      mAP@.5  mAP@.5:.95: 100% 32/32 [00:14<00:00,  2.22it/s]\n",
            "                 all        1000        2803       0.927       0.886        0.93        0.79\n",
            "\n",
            "     Epoch   gpu_mem       box       obj       cls     total    labels  img_size\n",
            "     45/49      1.4G   0.02018   0.01538   0.01557   0.05113        44       416: 100% 313/313 [02:25<00:00,  2.15it/s]\n",
            "               Class      Images      Labels           P           R      mAP@.5  mAP@.5:.95: 100% 32/32 [00:14<00:00,  2.20it/s]\n",
            "                 all        1000        2803       0.941       0.895       0.935       0.798\n",
            "\n",
            "     Epoch   gpu_mem       box       obj       cls     total    labels  img_size\n",
            "     46/49      1.4G   0.02011   0.01514   0.01521   0.05046        34       416: 100% 313/313 [02:25<00:00,  2.16it/s]\n",
            "               Class      Images      Labels           P           R      mAP@.5  mAP@.5:.95: 100% 32/32 [00:14<00:00,  2.23it/s]\n",
            "                 all        1000        2803       0.948       0.892       0.938       0.801\n",
            "\n",
            "     Epoch   gpu_mem       box       obj       cls     total    labels  img_size\n",
            "     47/49      1.4G   0.01986   0.01531   0.01506   0.05024        25       416: 100% 313/313 [02:24<00:00,  2.16it/s]\n",
            "               Class      Images      Labels           P           R      mAP@.5  mAP@.5:.95: 100% 32/32 [00:14<00:00,  2.22it/s]\n",
            "                 all        1000        2803        0.94       0.896       0.937       0.799\n",
            "\n",
            "     Epoch   gpu_mem       box       obj       cls     total    labels  img_size\n",
            "     48/49      1.4G    0.0197   0.01531    0.0146   0.04961        48       416: 100% 313/313 [02:25<00:00,  2.15it/s]\n",
            "               Class      Images      Labels           P           R      mAP@.5  mAP@.5:.95: 100% 32/32 [00:14<00:00,  2.23it/s]\n",
            "                 all        1000        2803       0.944       0.901       0.942       0.805\n",
            "\n",
            "     Epoch   gpu_mem       box       obj       cls     total    labels  img_size\n",
            "     49/49      1.4G   0.01983   0.01497   0.01451   0.04931        29       416: 100% 313/313 [02:24<00:00,  2.17it/s]\n",
            "               Class      Images      Labels           P           R      mAP@.5  mAP@.5:.95: 100% 32/32 [00:17<00:00,  1.88it/s]\n",
            "                 all        1000        2803        0.93       0.896       0.935       0.799\n",
            "Optimizer stripped from runs/train/fruit_yolov5s_results2/weights/last.pt, 14.7MB\n",
            "Optimizer stripped from runs/train/fruit_yolov5s_results2/weights/best.pt, 14.7MB\n",
            "50 epochs completed in 2.231 hours.\n",
            "\n"
          ],
          "name": "stdout"
        }
      ]
    },
    {
      "cell_type": "code",
      "metadata": {
        "colab": {
          "base_uri": "https://localhost:8080/"
        },
        "id": "eVYWpvm0gkXT",
        "outputId": "17f91863-3083-4705-c650-517a66aebb8b"
      },
      "source": [
        "from IPython.display import Image\n",
        "import os\n",
        "!python detect.py --weights /content/yolov5/runs/train/fruit_yolov5s_results2/weights/best.pt --img 640 --conf 0.5 --source /content/dataset/train/images/1000_jpg.rf.964df9125525132eb6971e45565d5667.jpg"
      ],
      "execution_count": 21,
      "outputs": [
        {
          "output_type": "stream",
          "text": [
            "Namespace(agnostic_nms=False, augment=False, classes=None, conf_thres=0.5, device='', exist_ok=False, img_size=640, iou_thres=0.45, name='exp', project='runs/detect', save_conf=False, save_txt=False, source='/content/dataset/train/images/1000_jpg.rf.964df9125525132eb6971e45565d5667.jpg', update=False, view_img=False, weights=['/content/yolov5/runs/train/fruit_yolov5s_results2/weights/best.pt'])\n",
            "YOLOv5 🚀 v4.0-138-ged2c742 torch 1.8.0+cu101 CUDA:0 (Tesla K80, 11441.1875MB)\n",
            "\n",
            "Fusing layers... \n",
            "Model Summary: 224 layers, 7221124 parameters, 0 gradients, 16.9 GFLOPS\n",
            "image 1/1 /content/dataset/train/images/1000_jpg.rf.964df9125525132eb6971e45565d5667.jpg: 640x512 1 Pomelo, 1 Walnut, Done. (0.033s)\n",
            "Results saved to runs/detect/exp\n",
            "Done. (0.068s)\n"
          ],
          "name": "stdout"
        }
      ]
    },
    {
      "cell_type": "code",
      "metadata": {
        "colab": {
          "base_uri": "https://localhost:8080/"
        },
        "id": "541UnwTnIfqE",
        "outputId": "e3a336d8-8e8e-4f40-fda1-ba32383e56ab"
      },
      "source": [
        "%cd /\n",
        "from glob import glob\n",
        "img_list = glob('/content/pinecones/images/*.jpg')\n",
        "from sklearn.model_selection import train_test_split\n",
        "train, val = train_test_split(img_list, test_size=0.2, random_state=2000)"
      ],
      "execution_count": 22,
      "outputs": [
        {
          "output_type": "stream",
          "text": [
            "/\n"
          ],
          "name": "stdout"
        }
      ]
    },
    {
      "cell_type": "code",
      "metadata": {
        "colab": {
          "base_uri": "https://localhost:8080/"
        },
        "id": "GdnguXM7OmaD",
        "outputId": "9d945a62-4afb-41f7-c871-cb0e959e6466"
      },
      "source": [
        "print(train)"
      ],
      "execution_count": 23,
      "outputs": [
        {
          "output_type": "stream",
          "text": [
            "['/content/pinecones/images/pinecone (1).jpg', '/content/pinecones/images/pinecone (85).jpg', '/content/pinecones/images/pinecone (32).jpg', '/content/pinecones/images/pinecone (87).jpg', '/content/pinecones/images/pinecone (38).jpg', '/content/pinecones/images/pinecone (100).jpg', '/content/pinecones/images/pinecone (138).jpg', '/content/pinecones/images/pinecone (177).jpg', '/content/pinecones/images/pinecone (40).jpg', '/content/pinecones/images/pinecone (44).jpg', '/content/pinecones/images/pinecone (86).jpg', '/content/pinecones/images/pinecone (170).jpg', '/content/pinecones/images/pinecone (69).jpg', '/content/pinecones/images/pinecone (47).jpg', '/content/pinecones/images/pinecone (49).jpg', '/content/pinecones/images/pinecone (25).jpg', '/content/pinecones/images/pinecone (41).jpg', '/content/pinecones/images/pinecone (22).jpg', '/content/pinecones/images/pinecone (147).jpg', '/content/pinecones/images/pinecone (77).jpg', '/content/pinecones/images/pinecone (2).jpg', '/content/pinecones/images/pinecone (126).jpg', '/content/pinecones/images/pinecone (57).jpg', '/content/pinecones/images/pinecone (4).jpg', '/content/pinecones/images/pinecone (71).jpg', '/content/pinecones/images/pinecone (64).jpg', '/content/pinecones/images/pinecone (185).jpg', '/content/pinecones/images/pinecone (19).jpg', '/content/pinecones/images/pinecone (62).jpg', '/content/pinecones/images/pinecone (51).jpg', '/content/pinecones/images/pinecone (135).jpg', '/content/pinecones/images/pinecone (74).jpg', '/content/pinecones/images/pinecone (33).jpg', '/content/pinecones/images/pinecone (66).jpg', '/content/pinecones/images/pinecone (186).jpg', '/content/pinecones/images/pinecone (20).jpg', '/content/pinecones/images/pinecone (202).jpg', '/content/pinecones/images/pinecone (116).jpg', '/content/pinecones/images/pinecone (18).jpg', '/content/pinecones/images/pinecone (26).jpg', '/content/pinecones/images/pinecone (45).jpg', '/content/pinecones/images/pinecone (141).jpg', '/content/pinecones/images/pinecone (204).jpg', '/content/pinecones/images/pinecone (82).jpg', '/content/pinecones/images/pinecone (187).jpg', '/content/pinecones/images/pinecone (92).jpg', '/content/pinecones/images/pinecone (172).jpg', '/content/pinecones/images/pinecone (59).jpg', '/content/pinecones/images/pinecone (181).jpg', '/content/pinecones/images/pinecone (46).jpg', '/content/pinecones/images/pinecone (152).jpg', '/content/pinecones/images/pinecone (31).jpg', '/content/pinecones/images/pinecone (72).jpg', '/content/pinecones/images/pinecone (48).jpg', '/content/pinecones/images/pinecone (124).jpg', '/content/pinecones/images/pinecone (28).jpg', '/content/pinecones/images/pinecone (114).jpg', '/content/pinecones/images/pinecone (196).jpg', '/content/pinecones/images/pinecone (195).jpg', '/content/pinecones/images/pinecone (29).jpg', '/content/pinecones/images/pinecone (125).jpg', '/content/pinecones/images/pinecone (27).jpg', '/content/pinecones/images/pinecone (140).jpg', '/content/pinecones/images/pinecone (188).jpg', '/content/pinecones/images/pinecone (175).jpg', '/content/pinecones/images/pinecone (21).jpg', '/content/pinecones/images/pinecone (205).jpg', '/content/pinecones/images/pinecone (11).jpg', '/content/pinecones/images/pinecone (119).jpg', '/content/pinecones/images/pinecone (63).jpg', '/content/pinecones/images/pinecone (81).jpg', '/content/pinecones/images/pinecone (179).jpg', '/content/pinecones/images/pinecone (12).jpg', '/content/pinecones/images/pinecone (109).jpg', '/content/pinecones/images/pinecone (50).jpg', '/content/pinecones/images/pinecone (169).jpg', '/content/pinecones/images/pinecone (60).jpg', '/content/pinecones/images/pinecone (171).jpg', '/content/pinecones/images/pinecone (36).jpg', '/content/pinecones/images/pinecone (184).jpg', '/content/pinecones/images/pinecone (39).jpg', '/content/pinecones/images/pinecone (43).jpg', '/content/pinecones/images/pinecone (53).jpg', '/content/pinecones/images/pinecone (96).jpg', '/content/pinecones/images/pinecone (88).jpg', '/content/pinecones/images/pinecone (75).jpg', '/content/pinecones/images/pinecone (24).jpg', '/content/pinecones/images/pinecone (118).jpg', '/content/pinecones/images/pinecone (131).jpg', '/content/pinecones/images/pinecone (173).jpg', '/content/pinecones/images/pinecone (55).jpg', '/content/pinecones/images/pinecone (203).jpg', '/content/pinecones/images/pinecone (30).jpg', '/content/pinecones/images/pinecone (174).jpg', '/content/pinecones/images/pinecone (180).jpg', '/content/pinecones/images/pinecone (17).jpg', '/content/pinecones/images/pinecone (37).jpg', '/content/pinecones/images/pinecone (194).jpg', '/content/pinecones/images/pinecone (120).jpg', '/content/pinecones/images/pinecone (97).jpg', '/content/pinecones/images/pinecone (34).jpg', '/content/pinecones/images/pinecone (128).jpg', '/content/pinecones/images/pinecone (110).jpg', '/content/pinecones/images/pinecone (189).jpg', '/content/pinecones/images/pinecone (35).jpg', '/content/pinecones/images/pinecone (89).jpg', '/content/pinecones/images/pinecone (108).jpg', '/content/pinecones/images/pinecone (61).jpg']\n"
          ],
          "name": "stdout"
        }
      ]
    },
    {
      "cell_type": "code",
      "metadata": {
        "id": "ZIBTNVZFOpDS"
      },
      "source": [
        "with open('/content/pinecones/train.txt', 'w') as f:\n",
        "  f.write('\\n'.join(train) + 'n')\n",
        "with open('/content/pinecones/val.txt', 'w') as f:\n",
        "  f.write('\\n'.join(val) + 'n')"
      ],
      "execution_count": 24,
      "outputs": []
    },
    {
      "cell_type": "code",
      "metadata": {
        "colab": {
          "base_uri": "https://localhost:8080/"
        },
        "id": "GlGfqGDjOv9q",
        "outputId": "39da735e-d24e-4e31-9eec-51384857bc50"
      },
      "source": [
        "%cd /content/yolov5/\n",
        "!python train.py --img 640 --batch 16 --epochs 50 --data /content/pinecones/data.yaml --cfg ./models/yolov5s.yaml --weights yolov5s.pt --name pinecones_yolov5s_results"
      ],
      "execution_count": 25,
      "outputs": [
        {
          "output_type": "stream",
          "text": [
            "/content/yolov5\n",
            "\u001b[34m\u001b[1mgithub: \u001b[0mup to date with https://github.com/ultralytics/yolov5 ✅\n",
            "YOLOv5 🚀 v4.0-138-ged2c742 torch 1.8.0+cu101 CUDA:0 (Tesla K80, 11441.1875MB)\n",
            "\n",
            "Namespace(adam=False, batch_size=16, bucket='', cache_images=False, cfg='./models/yolov5s.yaml', data='/content/pinecones/data.yaml', device='', entity=None, epochs=50, evolve=False, exist_ok=False, global_rank=-1, hyp='data/hyp.scratch.yaml', image_weights=False, img_size=[640, 640], linear_lr=False, local_rank=-1, log_artifacts=False, log_imgs=16, multi_scale=False, name='pinecones_yolov5s_results', noautoanchor=False, nosave=False, notest=False, project='runs/train', quad=False, rect=False, resume=False, save_dir='runs/train/pinecones_yolov5s_results', single_cls=False, sync_bn=False, total_batch_size=16, weights='yolov5s.pt', workers=8, world_size=1)\n",
            "\u001b[34m\u001b[1mwandb: \u001b[0mInstall Weights & Biases for YOLOv5 logging with 'pip install wandb' (recommended)\n",
            "Start Tensorboard with \"tensorboard --logdir runs/train\", view at http://localhost:6006/\n",
            "2021-03-22 18:40:18.758127: I tensorflow/stream_executor/platform/default/dso_loader.cc:49] Successfully opened dynamic library libcudart.so.11.0\n",
            "\u001b[34m\u001b[1mhyperparameters: \u001b[0mlr0=0.01, lrf=0.2, momentum=0.937, weight_decay=0.0005, warmup_epochs=3.0, warmup_momentum=0.8, warmup_bias_lr=0.1, box=0.05, cls=0.5, cls_pw=1.0, obj=1.0, obj_pw=1.0, iou_t=0.2, anchor_t=4.0, fl_gamma=0.0, hsv_h=0.015, hsv_s=0.7, hsv_v=0.4, degrees=0.0, translate=0.1, scale=0.5, shear=0.0, perspective=0.0, flipud=0.0, fliplr=0.5, mosaic=1.0, mixup=0.0\n",
            "Overriding model.yaml nc=80 with nc=1\n",
            "\n",
            "                 from  n    params  module                                  arguments                     \n",
            "  0                -1  1      3520  models.common.Focus                     [3, 32, 3]                    \n",
            "  1                -1  1     18560  models.common.Conv                      [32, 64, 3, 2]                \n",
            "  2                -1  1     18816  models.common.C3                        [64, 64, 1]                   \n",
            "  3                -1  1     73984  models.common.Conv                      [64, 128, 3, 2]               \n",
            "  4                -1  1    156928  models.common.C3                        [128, 128, 3]                 \n",
            "  5                -1  1    295424  models.common.Conv                      [128, 256, 3, 2]              \n",
            "  6                -1  1    625152  models.common.C3                        [256, 256, 3]                 \n",
            "  7                -1  1   1180672  models.common.Conv                      [256, 512, 3, 2]              \n",
            "  8                -1  1    656896  models.common.SPP                       [512, 512, [5, 9, 13]]        \n",
            "  9                -1  1   1182720  models.common.C3                        [512, 512, 1, False]          \n",
            " 10                -1  1    131584  models.common.Conv                      [512, 256, 1, 1]              \n",
            " 11                -1  1         0  torch.nn.modules.upsampling.Upsample    [None, 2, 'nearest']          \n",
            " 12           [-1, 6]  1         0  models.common.Concat                    [1]                           \n",
            " 13                -1  1    361984  models.common.C3                        [512, 256, 1, False]          \n",
            " 14                -1  1     33024  models.common.Conv                      [256, 128, 1, 1]              \n",
            " 15                -1  1         0  torch.nn.modules.upsampling.Upsample    [None, 2, 'nearest']          \n",
            " 16           [-1, 4]  1         0  models.common.Concat                    [1]                           \n",
            " 17                -1  1     90880  models.common.C3                        [256, 128, 1, False]          \n",
            " 18                -1  1    147712  models.common.Conv                      [128, 128, 3, 2]              \n",
            " 19          [-1, 14]  1         0  models.common.Concat                    [1]                           \n",
            " 20                -1  1    296448  models.common.C3                        [256, 256, 1, False]          \n",
            " 21                -1  1    590336  models.common.Conv                      [256, 256, 3, 2]              \n",
            " 22          [-1, 10]  1         0  models.common.Concat                    [1]                           \n",
            " 23                -1  1   1182720  models.common.C3                        [512, 512, 1, False]          \n",
            " 24      [17, 20, 23]  1     16182  models.yolo.Detect                      [1, [[10, 13, 16, 30, 33, 23], [30, 61, 62, 45, 59, 119], [116, 90, 156, 198, 373, 326]], [128, 256, 512]]\n",
            "Model Summary: 283 layers, 7063542 parameters, 7063542 gradients, 16.4 GFLOPS\n",
            "\n",
            "Transferred 354/362 items from yolov5s.pt\n",
            "Scaled weight_decay = 0.0005\n",
            "Optimizer groups: 62 .bias, 62 conv.weight, 59 other\n",
            "\u001b[34m\u001b[1mtrain: \u001b[0mScanning '/content/pinecones/train' images and labels... 107 found, 0 missing, 0 empty, 0 corrupted: 100% 107/107 [00:00<00:00, 2045.33it/s]\n",
            "\u001b[34m\u001b[1mtrain: \u001b[0mNew cache created: /content/pinecones/train.cache\n",
            "\u001b[34m\u001b[1mval: \u001b[0mScanning '/content/pinecones/val' images and labels... 26 found, 0 missing, 0 empty, 0 corrupted: 100% 26/26 [00:00<00:00, 756.92it/s]\n",
            "\u001b[34m\u001b[1mval: \u001b[0mNew cache created: /content/pinecones/val.cache\n",
            "Plotting labels... \n",
            "\n",
            "\u001b[34m\u001b[1mautoanchor: \u001b[0mAnalyzing anchors... anchors/target = 5.52, Best Possible Recall (BPR) = 1.0000\n",
            "Image sizes 640 train, 640 test\n",
            "Using 2 dataloader workers\n",
            "Logging results to runs/train/pinecones_yolov5s_results\n",
            "Starting training for 50 epochs...\n",
            "\n",
            "     Epoch   gpu_mem       box       obj       cls     total    labels  img_size\n",
            "      0/49     6.45G    0.1137   0.04685         0    0.1605        73       640: 100% 7/7 [00:18<00:00,  2.61s/it]\n",
            "               Class      Images      Labels           P           R      mAP@.5  mAP@.5:.95: 100% 1/1 [00:04<00:00,  4.36s/it]\n",
            "                 all          26          60      0.0144      0.0333     0.00361    0.000498\n",
            "\n",
            "     Epoch   gpu_mem       box       obj       cls     total    labels  img_size\n",
            "      1/49     6.43G    0.1121   0.04408         0    0.1562        52       640: 100% 7/7 [00:05<00:00,  1.29it/s]\n",
            "               Class      Images      Labels           P           R      mAP@.5  mAP@.5:.95: 100% 1/1 [00:01<00:00,  1.22s/it]\n",
            "                 all          26          60      0.0239        0.05     0.00737    0.000841\n",
            "\n",
            "     Epoch   gpu_mem       box       obj       cls     total    labels  img_size\n",
            "      2/49     6.43G     0.108    0.0415         0    0.1495        60       640: 100% 7/7 [00:05<00:00,  1.28it/s]\n",
            "               Class      Images      Labels           P           R      mAP@.5  mAP@.5:.95: 100% 1/1 [00:01<00:00,  1.13s/it]\n",
            "                 all          26          60      0.0219      0.0833      0.0104     0.00138\n",
            "\n",
            "     Epoch   gpu_mem       box       obj       cls     total    labels  img_size\n",
            "      3/49     6.43G     0.105   0.04706         0    0.1521        65       640: 100% 7/7 [00:05<00:00,  1.28it/s]\n",
            "               Class      Images      Labels           P           R      mAP@.5  mAP@.5:.95: 100% 1/1 [00:01<00:00,  1.07s/it]\n",
            "                 all          26          60      0.0354      0.0833      0.0134     0.00216\n",
            "\n",
            "     Epoch   gpu_mem       box       obj       cls     total    labels  img_size\n",
            "      4/49     6.43G    0.1037   0.05079         0    0.1545        52       640: 100% 7/7 [00:05<00:00,  1.28it/s]\n",
            "               Class      Images      Labels           P           R      mAP@.5  mAP@.5:.95: 100% 1/1 [00:01<00:00,  1.02s/it]\n",
            "                 all          26          60      0.0375        0.25      0.0259     0.00429\n",
            "\n",
            "     Epoch   gpu_mem       box       obj       cls     total    labels  img_size\n",
            "      5/49     6.43G    0.1002   0.04856         0    0.1487        48       640: 100% 7/7 [00:05<00:00,  1.27it/s]\n",
            "               Class      Images      Labels           P           R      mAP@.5  mAP@.5:.95: 100% 1/1 [00:00<00:00,  1.02it/s]\n",
            "                 all          26          60      0.0535       0.217      0.0315     0.00651\n",
            "\n",
            "     Epoch   gpu_mem       box       obj       cls     total    labels  img_size\n",
            "      6/49     6.43G   0.09702   0.05236         0    0.1494        68       640: 100% 7/7 [00:05<00:00,  1.28it/s]\n",
            "               Class      Images      Labels           P           R      mAP@.5  mAP@.5:.95: 100% 1/1 [00:00<00:00,  1.06it/s]\n",
            "                 all          26          60      0.0699       0.233      0.0454      0.0092\n",
            "\n",
            "     Epoch   gpu_mem       box       obj       cls     total    labels  img_size\n",
            "      7/49     6.43G   0.09459   0.04535         0    0.1399        47       640: 100% 7/7 [00:05<00:00,  1.28it/s]\n",
            "               Class      Images      Labels           P           R      mAP@.5  mAP@.5:.95: 100% 1/1 [00:00<00:00,  1.11it/s]\n",
            "                 all          26          60       0.113       0.217      0.0622      0.0127\n",
            "\n",
            "     Epoch   gpu_mem       box       obj       cls     total    labels  img_size\n",
            "      8/49     6.43G   0.09439    0.0527         0    0.1471        67       640: 100% 7/7 [00:05<00:00,  1.27it/s]\n",
            "               Class      Images      Labels           P           R      mAP@.5  mAP@.5:.95: 100% 1/1 [00:00<00:00,  1.13it/s]\n",
            "                 all          26          60       0.165       0.233      0.0973       0.019\n",
            "\n",
            "     Epoch   gpu_mem       box       obj       cls     total    labels  img_size\n",
            "      9/49     6.43G   0.09177   0.05359         0    0.1454        77       640: 100% 7/7 [00:05<00:00,  1.28it/s]\n",
            "               Class      Images      Labels           P           R      mAP@.5  mAP@.5:.95: 100% 1/1 [00:00<00:00,  1.19it/s]\n",
            "                 all          26          60        0.18       0.317       0.141      0.0257\n",
            "\n",
            "     Epoch   gpu_mem       box       obj       cls     total    labels  img_size\n",
            "     10/49     6.43G   0.08947   0.05387         0    0.1433        45       640: 100% 7/7 [00:05<00:00,  1.27it/s]\n",
            "               Class      Images      Labels           P           R      mAP@.5  mAP@.5:.95: 100% 1/1 [00:00<00:00,  1.21it/s]\n",
            "                 all          26          60        0.22       0.517       0.175      0.0349\n",
            "\n",
            "     Epoch   gpu_mem       box       obj       cls     total    labels  img_size\n",
            "     11/49     6.43G   0.08533   0.05447         0    0.1398        49       640: 100% 7/7 [00:05<00:00,  1.28it/s]\n",
            "               Class      Images      Labels           P           R      mAP@.5  mAP@.5:.95: 100% 1/1 [00:00<00:00,  1.24it/s]\n",
            "                 all          26          60       0.344       0.383       0.232      0.0538\n",
            "\n",
            "     Epoch   gpu_mem       box       obj       cls     total    labels  img_size\n",
            "     12/49     6.43G   0.08443   0.05311         0    0.1375        70       640: 100% 7/7 [00:05<00:00,  1.27it/s]\n",
            "               Class      Images      Labels           P           R      mAP@.5  mAP@.5:.95: 100% 1/1 [00:00<00:00,  1.26it/s]\n",
            "                 all          26          60       0.359       0.467       0.276      0.0669\n",
            "\n",
            "     Epoch   gpu_mem       box       obj       cls     total    labels  img_size\n",
            "     13/49     6.43G   0.08061   0.05493         0    0.1355        65       640: 100% 7/7 [00:05<00:00,  1.28it/s]\n",
            "               Class      Images      Labels           P           R      mAP@.5  mAP@.5:.95: 100% 1/1 [00:00<00:00,  1.26it/s]\n",
            "                 all          26          60       0.336       0.533       0.294      0.0787\n",
            "\n",
            "     Epoch   gpu_mem       box       obj       cls     total    labels  img_size\n",
            "     14/49     6.43G   0.08039   0.05509         0    0.1355        73       640: 100% 7/7 [00:05<00:00,  1.28it/s]\n",
            "               Class      Images      Labels           P           R      mAP@.5  mAP@.5:.95: 100% 1/1 [00:00<00:00,  1.25it/s]\n",
            "                 all          26          60       0.362       0.617       0.372       0.112\n",
            "\n",
            "     Epoch   gpu_mem       box       obj       cls     total    labels  img_size\n",
            "     15/49     6.43G   0.07483   0.04965         0    0.1245        53       640: 100% 7/7 [00:05<00:00,  1.28it/s]\n",
            "               Class      Images      Labels           P           R      mAP@.5  mAP@.5:.95: 100% 1/1 [00:00<00:00,  1.28it/s]\n",
            "                 all          26          60       0.532        0.55       0.482       0.162\n",
            "\n",
            "     Epoch   gpu_mem       box       obj       cls     total    labels  img_size\n",
            "     16/49     6.43G   0.07227   0.04632         0    0.1186        40       640: 100% 7/7 [00:05<00:00,  1.28it/s]\n",
            "               Class      Images      Labels           P           R      mAP@.5  mAP@.5:.95: 100% 1/1 [00:00<00:00,  1.31it/s]\n",
            "                 all          26          60       0.604         0.6       0.578        0.22\n",
            "\n",
            "     Epoch   gpu_mem       box       obj       cls     total    labels  img_size\n",
            "     17/49     6.43G   0.07094   0.04994         0    0.1209        71       640: 100% 7/7 [00:05<00:00,  1.27it/s]\n",
            "               Class      Images      Labels           P           R      mAP@.5  mAP@.5:.95: 100% 1/1 [00:00<00:00,  1.31it/s]\n",
            "                 all          26          60       0.723       0.483       0.628       0.253\n",
            "\n",
            "     Epoch   gpu_mem       box       obj       cls     total    labels  img_size\n",
            "     18/49     6.43G   0.07058   0.04998         0    0.1206        54       640: 100% 7/7 [00:05<00:00,  1.28it/s]\n",
            "               Class      Images      Labels           P           R      mAP@.5  mAP@.5:.95: 100% 1/1 [00:00<00:00,  1.34it/s]\n",
            "                 all          26          60       0.605       0.717       0.703       0.321\n",
            "\n",
            "     Epoch   gpu_mem       box       obj       cls     total    labels  img_size\n",
            "     19/49     6.43G   0.06574   0.04675         0    0.1125        81       640: 100% 7/7 [00:05<00:00,  1.27it/s]\n",
            "               Class      Images      Labels           P           R      mAP@.5  mAP@.5:.95: 100% 1/1 [00:00<00:00,  1.31it/s]\n",
            "                 all          26          60       0.719       0.767       0.751       0.349\n",
            "\n",
            "     Epoch   gpu_mem       box       obj       cls     total    labels  img_size\n",
            "     20/49     6.43G   0.06344   0.04195         0    0.1054        63       640: 100% 7/7 [00:05<00:00,  1.28it/s]\n",
            "               Class      Images      Labels           P           R      mAP@.5  mAP@.5:.95: 100% 1/1 [00:00<00:00,  1.37it/s]\n",
            "                 all          26          60       0.692       0.749       0.742       0.383\n",
            "\n",
            "     Epoch   gpu_mem       box       obj       cls     total    labels  img_size\n",
            "     21/49     6.43G   0.05937   0.03935         0   0.09873        63       640: 100% 7/7 [00:05<00:00,  1.27it/s]\n",
            "               Class      Images      Labels           P           R      mAP@.5  mAP@.5:.95: 100% 1/1 [00:00<00:00,  1.40it/s]\n",
            "                 all          26          60       0.582       0.767       0.702       0.306\n",
            "\n",
            "     Epoch   gpu_mem       box       obj       cls     total    labels  img_size\n",
            "     22/49     6.43G   0.05915   0.03982         0   0.09898        61       640: 100% 7/7 [00:05<00:00,  1.26it/s]\n",
            "               Class      Images      Labels           P           R      mAP@.5  mAP@.5:.95: 100% 1/1 [00:00<00:00,  1.43it/s]\n",
            "                 all          26          60       0.635         0.7       0.658       0.244\n",
            "\n",
            "     Epoch   gpu_mem       box       obj       cls     total    labels  img_size\n",
            "     23/49     6.43G   0.05758   0.04112         0    0.0987        67       640: 100% 7/7 [00:05<00:00,  1.29it/s]\n",
            "               Class      Images      Labels           P           R      mAP@.5  mAP@.5:.95: 100% 1/1 [00:00<00:00,  1.38it/s]\n",
            "                 all          26          60       0.632       0.783       0.746       0.266\n",
            "\n",
            "     Epoch   gpu_mem       box       obj       cls     total    labels  img_size\n",
            "     24/49     6.43G    0.0602   0.04078         0     0.101        52       640: 100% 7/7 [00:05<00:00,  1.29it/s]\n",
            "               Class      Images      Labels           P           R      mAP@.5  mAP@.5:.95: 100% 1/1 [00:00<00:00,  1.51it/s]\n",
            "                 all          26          60       0.445       0.815       0.611       0.225\n",
            "\n",
            "     Epoch   gpu_mem       box       obj       cls     total    labels  img_size\n",
            "     25/49     6.43G   0.06208    0.0421         0    0.1042        67       640: 100% 7/7 [00:05<00:00,  1.31it/s]\n",
            "               Class      Images      Labels           P           R      mAP@.5  mAP@.5:.95: 100% 1/1 [00:00<00:00,  1.47it/s]\n",
            "                 all          26          60       0.562        0.75       0.688       0.224\n",
            "\n",
            "     Epoch   gpu_mem       box       obj       cls     total    labels  img_size\n",
            "     26/49     6.43G   0.05847   0.03914         0   0.09761        52       640: 100% 7/7 [00:05<00:00,  1.30it/s]\n",
            "               Class      Images      Labels           P           R      mAP@.5  mAP@.5:.95: 100% 1/1 [00:00<00:00,  1.50it/s]\n",
            "                 all          26          60       0.589       0.767       0.669       0.216\n",
            "\n",
            "     Epoch   gpu_mem       box       obj       cls     total    labels  img_size\n",
            "     27/49     6.43G   0.05792   0.03955         0   0.09747        49       640: 100% 7/7 [00:05<00:00,  1.31it/s]\n",
            "               Class      Images      Labels           P           R      mAP@.5  mAP@.5:.95: 100% 1/1 [00:00<00:00,  1.49it/s]\n",
            "                 all          26          60       0.557       0.817       0.717       0.278\n",
            "\n",
            "     Epoch   gpu_mem       box       obj       cls     total    labels  img_size\n",
            "     28/49     6.43G   0.05364   0.03896         0    0.0926        55       640: 100% 7/7 [00:05<00:00,  1.30it/s]\n",
            "               Class      Images      Labels           P           R      mAP@.5  mAP@.5:.95: 100% 1/1 [00:00<00:00,  1.56it/s]\n",
            "                 all          26          60       0.573       0.717       0.632       0.211\n",
            "\n",
            "     Epoch   gpu_mem       box       obj       cls     total    labels  img_size\n",
            "     29/49     6.43G   0.05524   0.03486         0    0.0901        53       640: 100% 7/7 [00:05<00:00,  1.30it/s]\n",
            "               Class      Images      Labels           P           R      mAP@.5  mAP@.5:.95: 100% 1/1 [00:00<00:00,  1.53it/s]\n",
            "                 all          26          60       0.586       0.683       0.636       0.269\n",
            "\n",
            "     Epoch   gpu_mem       box       obj       cls     total    labels  img_size\n",
            "     30/49     6.43G   0.05532   0.03461         0   0.08993        35       640: 100% 7/7 [00:05<00:00,  1.29it/s]\n",
            "               Class      Images      Labels           P           R      mAP@.5  mAP@.5:.95: 100% 1/1 [00:00<00:00,  1.60it/s]\n",
            "                 all          26          60       0.736       0.883       0.843       0.401\n",
            "\n",
            "     Epoch   gpu_mem       box       obj       cls     total    labels  img_size\n",
            "     31/49     6.43G    0.0526   0.03849         0   0.09109        61       640: 100% 7/7 [00:05<00:00,  1.30it/s]\n",
            "               Class      Images      Labels           P           R      mAP@.5  mAP@.5:.95: 100% 1/1 [00:00<00:00,  1.61it/s]\n",
            "                 all          26          60       0.821       0.917       0.907       0.466\n",
            "\n",
            "     Epoch   gpu_mem       box       obj       cls     total    labels  img_size\n",
            "     32/49     6.43G    0.0527   0.03718         0   0.08989        81       640: 100% 7/7 [00:05<00:00,  1.31it/s]\n",
            "               Class      Images      Labels           P           R      mAP@.5  mAP@.5:.95: 100% 1/1 [00:00<00:00,  1.61it/s]\n",
            "                 all          26          60       0.697       0.883       0.828        0.45\n",
            "\n",
            "     Epoch   gpu_mem       box       obj       cls     total    labels  img_size\n",
            "     33/49     6.43G   0.05312   0.03468         0   0.08781        59       640: 100% 7/7 [00:05<00:00,  1.30it/s]\n",
            "               Class      Images      Labels           P           R      mAP@.5  mAP@.5:.95: 100% 1/1 [00:00<00:00,  1.64it/s]\n",
            "                 all          26          60       0.605       0.767       0.702       0.252\n",
            "\n",
            "     Epoch   gpu_mem       box       obj       cls     total    labels  img_size\n",
            "     34/49     6.43G   0.05229    0.0379         0    0.0902        53       640: 100% 7/7 [00:05<00:00,  1.30it/s]\n",
            "               Class      Images      Labels           P           R      mAP@.5  mAP@.5:.95: 100% 1/1 [00:00<00:00,  1.68it/s]\n",
            "                 all          26          60        0.65       0.867         0.8       0.357\n",
            "\n",
            "     Epoch   gpu_mem       box       obj       cls     total    labels  img_size\n",
            "     35/49     6.43G   0.05125   0.03316         0   0.08441        66       640: 100% 7/7 [00:05<00:00,  1.31it/s]\n",
            "               Class      Images      Labels           P           R      mAP@.5  mAP@.5:.95: 100% 1/1 [00:00<00:00,  1.62it/s]\n",
            "                 all          26          60       0.846       0.733       0.871       0.386\n",
            "\n",
            "     Epoch   gpu_mem       box       obj       cls     total    labels  img_size\n",
            "     36/49     6.43G   0.04901   0.03613         0   0.08514        86       640: 100% 7/7 [00:05<00:00,  1.28it/s]\n",
            "               Class      Images      Labels           P           R      mAP@.5  mAP@.5:.95: 100% 1/1 [00:00<00:00,  1.67it/s]\n",
            "                 all          26          60       0.839       0.866       0.908       0.476\n",
            "\n",
            "     Epoch   gpu_mem       box       obj       cls     total    labels  img_size\n",
            "     37/49     6.43G   0.04765   0.02918         0   0.07683        45       640: 100% 7/7 [00:05<00:00,  1.29it/s]\n",
            "               Class      Images      Labels           P           R      mAP@.5  mAP@.5:.95: 100% 1/1 [00:00<00:00,  1.66it/s]\n",
            "                 all          26          60       0.904       0.783       0.892       0.396\n",
            "\n",
            "     Epoch   gpu_mem       box       obj       cls     total    labels  img_size\n",
            "     38/49     6.43G   0.05046   0.03715         0   0.08761        64       640: 100% 7/7 [00:05<00:00,  1.29it/s]\n",
            "               Class      Images      Labels           P           R      mAP@.5  mAP@.5:.95: 100% 1/1 [00:00<00:00,  1.68it/s]\n",
            "                 all          26          60       0.844         0.9       0.914       0.477\n",
            "\n",
            "     Epoch   gpu_mem       box       obj       cls     total    labels  img_size\n",
            "     39/49     6.43G   0.04802   0.03671         0   0.08474        54       640: 100% 7/7 [00:05<00:00,  1.30it/s]\n",
            "               Class      Images      Labels           P           R      mAP@.5  mAP@.5:.95: 100% 1/1 [00:00<00:00,  1.60it/s]\n",
            "                 all          26          60       0.742       0.867       0.859       0.431\n",
            "\n",
            "     Epoch   gpu_mem       box       obj       cls     total    labels  img_size\n",
            "     40/49     6.43G   0.04736   0.03711         0   0.08446        79       640: 100% 7/7 [00:05<00:00,  1.29it/s]\n",
            "               Class      Images      Labels           P           R      mAP@.5  mAP@.5:.95: 100% 1/1 [00:00<00:00,  1.70it/s]\n",
            "                 all          26          60       0.548        0.85       0.686       0.243\n",
            "\n",
            "     Epoch   gpu_mem       box       obj       cls     total    labels  img_size\n",
            "     41/49     6.43G   0.04682   0.02922         0   0.07604        76       640: 100% 7/7 [00:05<00:00,  1.31it/s]\n",
            "               Class      Images      Labels           P           R      mAP@.5  mAP@.5:.95: 100% 1/1 [00:00<00:00,  1.69it/s]\n",
            "                 all          26          60       0.645        0.85         0.8       0.369\n",
            "\n",
            "     Epoch   gpu_mem       box       obj       cls     total    labels  img_size\n",
            "     42/49     6.43G   0.04588   0.03372         0    0.0796        66       640: 100% 7/7 [00:05<00:00,  1.29it/s]\n",
            "               Class      Images      Labels           P           R      mAP@.5  mAP@.5:.95: 100% 1/1 [00:00<00:00,  1.72it/s]\n",
            "                 all          26          60       0.873       0.917       0.935       0.556\n",
            "\n",
            "     Epoch   gpu_mem       box       obj       cls     total    labels  img_size\n",
            "     43/49     6.43G   0.04432   0.03377         0   0.07808        70       640: 100% 7/7 [00:05<00:00,  1.31it/s]\n",
            "               Class      Images      Labels           P           R      mAP@.5  mAP@.5:.95: 100% 1/1 [00:00<00:00,  1.72it/s]\n",
            "                 all          26          60       0.927        0.85        0.91       0.486\n",
            "\n",
            "     Epoch   gpu_mem       box       obj       cls     total    labels  img_size\n",
            "     44/49     6.43G   0.04475   0.03064         0   0.07539        54       640: 100% 7/7 [00:05<00:00,  1.28it/s]\n",
            "               Class      Images      Labels           P           R      mAP@.5  mAP@.5:.95: 100% 1/1 [00:00<00:00,  1.69it/s]\n",
            "                 all          26          60       0.944       0.849       0.926       0.534\n",
            "\n",
            "     Epoch   gpu_mem       box       obj       cls     total    labels  img_size\n",
            "     45/49     6.43G   0.04491   0.03194         0   0.07685        55       640: 100% 7/7 [00:05<00:00,  1.31it/s]\n",
            "               Class      Images      Labels           P           R      mAP@.5  mAP@.5:.95: 100% 1/1 [00:00<00:00,  1.73it/s]\n",
            "                 all          26          60       0.962       0.848       0.935       0.509\n",
            "\n",
            "     Epoch   gpu_mem       box       obj       cls     total    labels  img_size\n",
            "     46/49     6.43G   0.04418   0.03233         0   0.07651        49       640: 100% 7/7 [00:05<00:00,  1.29it/s]\n",
            "               Class      Images      Labels           P           R      mAP@.5  mAP@.5:.95: 100% 1/1 [00:00<00:00,  1.75it/s]\n",
            "                 all          26          60       0.902       0.917       0.948       0.595\n",
            "\n",
            "     Epoch   gpu_mem       box       obj       cls     total    labels  img_size\n",
            "     47/49     6.43G    0.0423   0.02747         0   0.06977        46       640: 100% 7/7 [00:05<00:00,  1.31it/s]\n",
            "               Class      Images      Labels           P           R      mAP@.5  mAP@.5:.95: 100% 1/1 [00:00<00:00,  1.73it/s]\n",
            "                 all          26          60        0.79       0.816       0.827       0.459\n",
            "\n",
            "     Epoch   gpu_mem       box       obj       cls     total    labels  img_size\n",
            "     48/49     6.43G   0.04315   0.02784         0   0.07099        46       640: 100% 7/7 [00:05<00:00,  1.29it/s]\n",
            "               Class      Images      Labels           P           R      mAP@.5  mAP@.5:.95: 100% 1/1 [00:00<00:00,  1.74it/s]\n",
            "                 all          26          60       0.902       0.917       0.949       0.593\n",
            "\n",
            "     Epoch   gpu_mem       box       obj       cls     total    labels  img_size\n",
            "     49/49     6.43G   0.04296   0.02932         0   0.07228        47       640: 100% 7/7 [00:05<00:00,  1.30it/s]\n",
            "               Class      Images      Labels           P           R      mAP@.5  mAP@.5:.95: 100% 1/1 [00:01<00:00,  1.03s/it]\n",
            "                 all          26          60       0.898       0.883       0.946       0.565\n",
            "Optimizer stripped from runs/train/pinecones_yolov5s_results/weights/last.pt, 14.4MB\n",
            "Optimizer stripped from runs/train/pinecones_yolov5s_results/weights/best.pt, 14.4MB\n",
            "50 epochs completed in 0.100 hours.\n",
            "\n"
          ],
          "name": "stdout"
        }
      ]
    },
    {
      "cell_type": "code",
      "metadata": {
        "colab": {
          "base_uri": "https://localhost:8080/"
        },
        "id": "j-0A5KNTPNOM",
        "outputId": "dd40f0ce-cf35-4656-e196-60809d90f663"
      },
      "source": [
        "!python detect.py --weights /content/yolov5/runs/train/pinecones_yolov5s_results/weights/best.pt --img 640 --conf 0.5 --source /content/pinecones/images/pinecone\\ \\(100\\).jpg"
      ],
      "execution_count": 26,
      "outputs": [
        {
          "output_type": "stream",
          "text": [
            "Namespace(agnostic_nms=False, augment=False, classes=None, conf_thres=0.5, device='', exist_ok=False, img_size=640, iou_thres=0.45, name='exp', project='runs/detect', save_conf=False, save_txt=False, source='/content/pinecones/images/pinecone (100).jpg', update=False, view_img=False, weights=['/content/yolov5/runs/train/pinecones_yolov5s_results/weights/best.pt'])\n",
            "YOLOv5 🚀 v4.0-138-ged2c742 torch 1.8.0+cu101 CUDA:0 (Tesla K80, 11441.1875MB)\n",
            "\n",
            "Fusing layers... \n",
            "Model Summary: 224 layers, 7053910 parameters, 0 gradients, 16.3 GFLOPS\n",
            "image 1/1 /content/pinecones/images/pinecone (100).jpg: 640x416 1 pinecone, Done. (0.030s)\n",
            "Results saved to runs/detect/exp2\n",
            "Done. (0.040s)\n"
          ],
          "name": "stdout"
        }
      ]
    },
    {
      "cell_type": "code",
      "metadata": {
        "colab": {
          "base_uri": "https://localhost:8080/"
        },
        "id": "wskOpPk-RIWb",
        "outputId": "a0fa53e4-8779-49c1-8a5c-1ea1d1a328f9"
      },
      "source": [
        "!python detect.py --weights /content/yolov5/runs/train/pinecones_yolov5s_results/weights/best.pt --img 1200 --conf 0.1 --source /content/pinecones/a.jpg"
      ],
      "execution_count": 30,
      "outputs": [
        {
          "output_type": "stream",
          "text": [
            "Namespace(agnostic_nms=False, augment=False, classes=None, conf_thres=0.1, device='', exist_ok=False, img_size=1200, iou_thres=0.45, name='exp', project='runs/detect', save_conf=False, save_txt=False, source='/content/pinecones/a.jpg', update=False, view_img=False, weights=['/content/yolov5/runs/train/pinecones_yolov5s_results/weights/best.pt'])\n",
            "YOLOv5 🚀 v4.0-138-ged2c742 torch 1.8.0+cu101 CUDA:0 (Tesla K80, 11441.1875MB)\n",
            "\n",
            "Fusing layers... \n",
            "Model Summary: 224 layers, 7053910 parameters, 0 gradients, 16.3 GFLOPS\n",
            "WARNING: --img-size 1200 must be multiple of max stride 32, updating to 1216\n",
            "image 1/1 /content/pinecones/a.jpg: 896x1216 29 pinecones, Done. (0.075s)\n",
            "Results saved to runs/detect/exp6\n",
            "Done. (0.176s)\n"
          ],
          "name": "stdout"
        }
      ]
    },
    {
      "cell_type": "code",
      "metadata": {
        "id": "y4lAfPpuSGiY"
      },
      "source": [
        ""
      ],
      "execution_count": null,
      "outputs": []
    }
  ]
}